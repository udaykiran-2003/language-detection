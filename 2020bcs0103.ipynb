{
 "cells": [
  {
   "cell_type": "code",
   "execution_count": 1,
   "id": "43bb744f",
   "metadata": {
    "execution": {
     "iopub.execute_input": "2022-06-16T18:11:13.488580Z",
     "iopub.status.busy": "2022-06-16T18:11:13.487893Z",
     "iopub.status.idle": "2022-06-16T18:11:14.882555Z",
     "shell.execute_reply": "2022-06-16T18:11:14.881108Z"
    },
    "papermill": {
     "duration": 1.402527,
     "end_time": "2022-06-16T18:11:14.885257",
     "exception": false,
     "start_time": "2022-06-16T18:11:13.482730",
     "status": "completed"
    },
    "tags": []
   },
   "outputs": [],
   "source": [
    "import pandas as pd\n",
    "\n",
    "from sklearn.feature_extraction.text import TfidfVectorizer\n",
    "from sklearn.linear_model import Perceptron\n",
    "from sklearn.pipeline import Pipeline\n",
    "from sklearn.metrics import confusion_matrix, classification_report\n",
    "from sklearn.model_selection import train_test_split\n"
   ]
  },
  {
   "cell_type": "code",
   "execution_count": 2,
   "id": "ede4d938",
   "metadata": {
    "execution": {
     "iopub.execute_input": "2022-06-16T18:11:14.894813Z",
     "iopub.status.busy": "2022-06-16T18:11:14.894411Z",
     "iopub.status.idle": "2022-06-16T18:11:15.007320Z",
     "shell.execute_reply": "2022-06-16T18:11:15.006543Z"
    },
    "papermill": {
     "duration": 0.119013,
     "end_time": "2022-06-16T18:11:15.009506",
     "exception": false,
     "start_time": "2022-06-16T18:11:14.890493",
     "status": "completed"
    },
    "tags": []
   },
   "outputs": [
    {
     "data": {
      "text/html": [
       "<div>\n",
       "<style scoped>\n",
       "    .dataframe tbody tr th:only-of-type {\n",
       "        vertical-align: middle;\n",
       "    }\n",
       "\n",
       "    .dataframe tbody tr th {\n",
       "        vertical-align: top;\n",
       "    }\n",
       "\n",
       "    .dataframe thead th {\n",
       "        text-align: right;\n",
       "    }\n",
       "</style>\n",
       "<table border=\"1\" class=\"dataframe\">\n",
       "  <thead>\n",
       "    <tr style=\"text-align: right;\">\n",
       "      <th></th>\n",
       "      <th>Text</th>\n",
       "      <th>Language</th>\n",
       "    </tr>\n",
       "  </thead>\n",
       "  <tbody>\n",
       "    <tr>\n",
       "      <th>count</th>\n",
       "      <td>10337</td>\n",
       "      <td>10337</td>\n",
       "    </tr>\n",
       "    <tr>\n",
       "      <th>unique</th>\n",
       "      <td>10267</td>\n",
       "      <td>17</td>\n",
       "    </tr>\n",
       "    <tr>\n",
       "      <th>top</th>\n",
       "      <td>Jag är ledsen.</td>\n",
       "      <td>English</td>\n",
       "    </tr>\n",
       "    <tr>\n",
       "      <th>freq</th>\n",
       "      <td>3</td>\n",
       "      <td>1385</td>\n",
       "    </tr>\n",
       "  </tbody>\n",
       "</table>\n",
       "</div>"
      ],
      "text/plain": [
       "                  Text Language\n",
       "count            10337    10337\n",
       "unique           10267       17\n",
       "top     Jag är ledsen.  English\n",
       "freq                 3     1385"
      ]
     },
     "execution_count": 2,
     "metadata": {},
     "output_type": "execute_result"
    }
   ],
   "source": [
    "\n",
    "data = pd.read_csv('../input/language-detection/Language Detection.csv')\n",
    "data.describe()"
   ]
  },
  {
   "cell_type": "code",
   "execution_count": 3,
   "id": "964496c6",
   "metadata": {
    "execution": {
     "iopub.execute_input": "2022-06-16T18:11:15.017224Z",
     "iopub.status.busy": "2022-06-16T18:11:15.016600Z",
     "iopub.status.idle": "2022-06-16T18:11:15.023490Z",
     "shell.execute_reply": "2022-06-16T18:11:15.022774Z"
    },
    "papermill": {
     "duration": 0.013225,
     "end_time": "2022-06-16T18:11:15.025694",
     "exception": false,
     "start_time": "2022-06-16T18:11:15.012469",
     "status": "completed"
    },
    "tags": []
   },
   "outputs": [],
   "source": [
    "x_train, x_test, y_train, y_test = train_test_split(data['Text'], data['Language'], test_size=0.5)"
   ]
  },
  {
   "cell_type": "code",
   "execution_count": 4,
   "id": "7dbfd273",
   "metadata": {
    "execution": {
     "iopub.execute_input": "2022-06-16T18:11:15.033616Z",
     "iopub.status.busy": "2022-06-16T18:11:15.033003Z",
     "iopub.status.idle": "2022-06-16T18:11:15.037793Z",
     "shell.execute_reply": "2022-06-16T18:11:15.036984Z"
    },
    "papermill": {
     "duration": 0.010981,
     "end_time": "2022-06-16T18:11:15.039862",
     "exception": false,
     "start_time": "2022-06-16T18:11:15.028881",
     "status": "completed"
    },
    "tags": []
   },
   "outputs": [],
   "source": [
    "vectorizer = TfidfVectorizer(analyzer='char', ngram_range=(1,3), use_idf=False)"
   ]
  },
  {
   "cell_type": "code",
   "execution_count": 5,
   "id": "896fb1df",
   "metadata": {
    "execution": {
     "iopub.execute_input": "2022-06-16T18:11:15.048275Z",
     "iopub.status.busy": "2022-06-16T18:11:15.047072Z",
     "iopub.status.idle": "2022-06-16T18:11:15.053347Z",
     "shell.execute_reply": "2022-06-16T18:11:15.052546Z"
    },
    "papermill": {
     "duration": 0.013042,
     "end_time": "2022-06-16T18:11:15.055966",
     "exception": false,
     "start_time": "2022-06-16T18:11:15.042924",
     "status": "completed"
    },
    "tags": []
   },
   "outputs": [],
   "source": [
    "clf = Pipeline([\n",
    "        ('vec', vectorizer),\n",
    "        ('clf', Perceptron())\n",
    "               ])"
   ]
  },
  {
   "cell_type": "code",
   "execution_count": 6,
   "id": "cbd2afaa",
   "metadata": {
    "execution": {
     "iopub.execute_input": "2022-06-16T18:11:15.063786Z",
     "iopub.status.busy": "2022-06-16T18:11:15.062718Z",
     "iopub.status.idle": "2022-06-16T18:11:16.914257Z",
     "shell.execute_reply": "2022-06-16T18:11:16.913183Z"
    },
    "papermill": {
     "duration": 1.85834,
     "end_time": "2022-06-16T18:11:16.917257",
     "exception": false,
     "start_time": "2022-06-16T18:11:15.058917",
     "status": "completed"
    },
    "tags": []
   },
   "outputs": [
    {
     "data": {
      "text/plain": [
       "Pipeline(steps=[('vec',\n",
       "                 TfidfVectorizer(analyzer='char', ngram_range=(1, 3),\n",
       "                                 use_idf=False)),\n",
       "                ('clf', Perceptron())])"
      ]
     },
     "execution_count": 6,
     "metadata": {},
     "output_type": "execute_result"
    }
   ],
   "source": [
    "clf.fit(x_train, y_train)"
   ]
  },
  {
   "cell_type": "code",
   "execution_count": 7,
   "id": "4e988b6d",
   "metadata": {
    "execution": {
     "iopub.execute_input": "2022-06-16T18:11:16.931329Z",
     "iopub.status.busy": "2022-06-16T18:11:16.930706Z",
     "iopub.status.idle": "2022-06-16T18:11:17.926147Z",
     "shell.execute_reply": "2022-06-16T18:11:17.925355Z"
    },
    "papermill": {
     "duration": 1.004878,
     "end_time": "2022-06-16T18:11:17.928219",
     "exception": false,
     "start_time": "2022-06-16T18:11:16.923341",
     "status": "completed"
    },
    "tags": []
   },
   "outputs": [],
   "source": [
    "predictions = clf.predict(x_test)"
   ]
  },
  {
   "cell_type": "code",
   "execution_count": 8,
   "id": "452e9642",
   "metadata": {
    "execution": {
     "iopub.execute_input": "2022-06-16T18:11:17.936158Z",
     "iopub.status.busy": "2022-06-16T18:11:17.935553Z",
     "iopub.status.idle": "2022-06-16T18:11:18.045577Z",
     "shell.execute_reply": "2022-06-16T18:11:18.044253Z"
    },
    "papermill": {
     "duration": 0.116607,
     "end_time": "2022-06-16T18:11:18.047885",
     "exception": false,
     "start_time": "2022-06-16T18:11:17.931278",
     "status": "completed"
    },
    "tags": []
   },
   "outputs": [
    {
     "name": "stdout",
     "output_type": "stream",
     "text": [
      "              precision    recall  f1-score   support\n",
      "\n",
      "      Arabic       1.00      1.00      1.00       265\n",
      "      Danish       0.97      0.92      0.94       215\n",
      "       Dutch       0.96      0.97      0.96       259\n",
      "     English       0.99      0.98      0.99       678\n",
      "      French       0.99      0.97      0.98       529\n",
      "      German       0.96      0.96      0.96       246\n",
      "       Greek       0.96      1.00      0.98       186\n",
      "       Hindi       0.91      1.00      0.96        32\n",
      "     Italian       0.95      0.97      0.96       341\n",
      "     Kannada       1.00      1.00      1.00       175\n",
      "   Malayalam       0.96      1.00      0.98       299\n",
      "  Portugeese       0.98      0.91      0.94       384\n",
      "     Russian       1.00      1.00      1.00       350\n",
      "     Spanish       0.92      0.97      0.95       404\n",
      "    Sweedish       0.96      0.98      0.97       348\n",
      "       Tamil       1.00      1.00      1.00       230\n",
      "     Turkish       1.00      0.97      0.98       228\n",
      "\n",
      "    accuracy                           0.97      5169\n",
      "   macro avg       0.97      0.98      0.97      5169\n",
      "weighted avg       0.97      0.97      0.97      5169\n",
      "\n"
     ]
    }
   ],
   "source": [
    "print(classification_report(y_test, predictions))"
   ]
  },
  {
   "cell_type": "code",
   "execution_count": 9,
   "id": "04698881",
   "metadata": {
    "execution": {
     "iopub.execute_input": "2022-06-16T18:11:18.056186Z",
     "iopub.status.busy": "2022-06-16T18:11:18.055784Z",
     "iopub.status.idle": "2022-06-16T18:11:18.070934Z",
     "shell.execute_reply": "2022-06-16T18:11:18.069899Z"
    },
    "papermill": {
     "duration": 0.021689,
     "end_time": "2022-06-16T18:11:18.073055",
     "exception": false,
     "start_time": "2022-06-16T18:11:18.051366",
     "status": "completed"
    },
    "tags": []
   },
   "outputs": [
    {
     "data": {
      "text/html": [
       "<div>\n",
       "<style scoped>\n",
       "    .dataframe tbody tr th:only-of-type {\n",
       "        vertical-align: middle;\n",
       "    }\n",
       "\n",
       "    .dataframe tbody tr th {\n",
       "        vertical-align: top;\n",
       "    }\n",
       "\n",
       "    .dataframe thead th {\n",
       "        text-align: right;\n",
       "    }\n",
       "</style>\n",
       "<table border=\"1\" class=\"dataframe\">\n",
       "  <thead>\n",
       "    <tr style=\"text-align: right;\">\n",
       "      <th></th>\n",
       "      <th>Sentence</th>\n",
       "      <th>Language</th>\n",
       "    </tr>\n",
       "  </thead>\n",
       "  <tbody>\n",
       "    <tr>\n",
       "      <th>0</th>\n",
       "      <td>यह भाषा को पहचानने की परीक्षा है।</td>\n",
       "      <td>Hindi</td>\n",
       "    </tr>\n",
       "    <tr>\n",
       "      <th>1</th>\n",
       "      <td>Dies ist eine Demo</td>\n",
       "      <td>German</td>\n",
       "    </tr>\n",
       "  </tbody>\n",
       "</table>\n",
       "</div>"
      ],
      "text/plain": [
       "                            Sentence Language\n",
       "0  यह भाषा को पहचानने की परीक्षा है।    Hindi\n",
       "1                 Dies ist eine Demo   German"
      ]
     },
     "execution_count": 9,
     "metadata": {},
     "output_type": "execute_result"
    }
   ],
   "source": [
    "sentences = [\n",
    "    'यह भाषा को पहचानने की परीक्षा है।',\n",
    "    'Dies ist eine Demo'\n",
    "]\n",
    "\n",
    "predict = clf.predict(sentences)\n",
    "\n",
    "result = pd.DataFrame({'Sentence' : sentences, 'Language' : predict})\n",
    "result\n",
    "    "
   ]
  }
 ],
 "metadata": {
  "kernelspec": {
   "display_name": "Python 3",
   "language": "python",
   "name": "python3"
  },
  "language_info": {
   "codemirror_mode": {
    "name": "ipython",
    "version": 3
   },
   "file_extension": ".py",
   "mimetype": "text/x-python",
   "name": "python",
   "nbconvert_exporter": "python",
   "pygments_lexer": "ipython3",
   "version": "3.7.12"
  },
  "papermill": {
   "default_parameters": {},
   "duration": 14.791157,
   "end_time": "2022-06-16T18:11:18.797651",
   "environment_variables": {},
   "exception": null,
   "input_path": "__notebook__.ipynb",
   "output_path": "__notebook__.ipynb",
   "parameters": {},
   "start_time": "2022-06-16T18:11:04.006494",
   "version": "2.3.4"
  }
 },
 "nbformat": 4,
 "nbformat_minor": 5
}
